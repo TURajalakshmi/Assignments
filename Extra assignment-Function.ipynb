{
 "cells": [
  {
   "cell_type": "code",
   "execution_count": 1,
   "id": "b9f01035-4326-430f-bf98-e7d8b7353dde",
   "metadata": {},
   "outputs": [],
   "source": [
    "def SubfieldsInAI():\n",
    "    print(\"Sub-fields in AI are:\")\n",
    "    print(\"Machine Learning\")\n",
    "    print(\"Neural Networks\")\n",
    "    print(\"Vision\")\n",
    "    print(\"Robotics\")\n",
    "    print(\"Speech Processing\")\n",
    "    print(\"Natural Language Processing\")"
   ]
  },
  {
   "cell_type": "code",
   "execution_count": 3,
   "id": "6f8d56be-c524-442e-8195-22ca887be051",
   "metadata": {},
   "outputs": [
    {
     "name": "stdout",
     "output_type": "stream",
     "text": [
      "Sub-fields in AI are:\n",
      "Machine Learning\n",
      "Neural Networks\n",
      "Vision\n",
      "Robotics\n",
      "Speech Processing\n",
      "Natural Language Processing\n"
     ]
    }
   ],
   "source": [
    "SubfieldsInAI()"
   ]
  },
  {
   "cell_type": "code",
   "execution_count": 5,
   "id": "2eea525a-ce0d-44d3-84c3-eaaa14d9a116",
   "metadata": {},
   "outputs": [],
   "source": [
    "def OddEven():\n",
    "    num=int(input(\"Enter a number:\"))\n",
    "    if((num%2)==1):\n",
    "        print(\"52452 is odd number\")\n",
    "    else:\n",
    "        print(\"52452 is Even number\")"
   ]
  },
  {
   "cell_type": "code",
   "execution_count": 7,
   "id": "ac57b3dc-1584-41ec-ba61-2e2e2b90182f",
   "metadata": {},
   "outputs": [
    {
     "name": "stdin",
     "output_type": "stream",
     "text": [
      "Enter a number: 52452\n"
     ]
    },
    {
     "name": "stdout",
     "output_type": "stream",
     "text": [
      "52452 is Even number\n"
     ]
    }
   ],
   "source": [
    "OddEven()"
   ]
  },
  {
   "cell_type": "code",
   "execution_count": 9,
   "id": "87deb5a3-51c9-420c-a165-2d7b6ba6fa44",
   "metadata": {},
   "outputs": [],
   "source": [
    "def ElegiblityForMarriage():\n",
    "    gender=input(\"Your Gender:\")\n",
    "    age=int(input(\"Your Age:\"))\n",
    "    if(age>=21):\n",
    "        print(\"ELIGIBLE\")\n",
    "    else:\n",
    "        print(\"NOT ELIGIBLE\")"
   ]
  },
  {
   "cell_type": "code",
   "execution_count": 11,
   "id": "b01c73a6-0080-4a08-b660-839d357a59e9",
   "metadata": {},
   "outputs": [
    {
     "name": "stdin",
     "output_type": "stream",
     "text": [
      "Your Gender: Male\n",
      "Your Age: 20\n"
     ]
    },
    {
     "name": "stdout",
     "output_type": "stream",
     "text": [
      "NOT ELIGIBLE\n"
     ]
    }
   ],
   "source": [
    "ElegiblityForMarriage()"
   ]
  },
  {
   "cell_type": "code",
   "execution_count": 13,
   "id": "2e9b1bd5-9bd1-40e8-9518-ff7c328c2908",
   "metadata": {},
   "outputs": [],
   "source": [
    "def ElegiblityForMarriage():\n",
    "    gender=input(\"Your Gender:\")\n",
    "    age=int(input(\"Your Age:\"))\n",
    "    if(age>=18):\n",
    "        print(\"ELIGIBLE\")\n",
    "    else:\n",
    "        print(\"NOT ELIGIBLE\")"
   ]
  },
  {
   "cell_type": "code",
   "execution_count": 15,
   "id": "3eb88b20-8864-4de9-a86c-bb96c1c40f74",
   "metadata": {},
   "outputs": [
    {
     "name": "stdin",
     "output_type": "stream",
     "text": [
      "Your Gender: Female\n",
      "Your Age: 17\n"
     ]
    },
    {
     "name": "stdout",
     "output_type": "stream",
     "text": [
      "NOT ELIGIBLE\n"
     ]
    }
   ],
   "source": [
    "ElegiblityForMarriage()"
   ]
  },
  {
   "cell_type": "code",
   "execution_count": 17,
   "id": "6ced3c50-cf9a-48c7-9f8f-87b4639db6d5",
   "metadata": {},
   "outputs": [],
   "source": [
    "def FindPercent():\n",
    "    Sub1=int(input(\"Subject1=\"))\n",
    "    Sub2=int(input(\"Subject2=\"))\n",
    "    Sub3=int(input(\"Subject3=\"))\n",
    "    Sub4=int(input(\"Subject4=\"))\n",
    "    Sub5=int(input(\"Subject5=\"))\n",
    "    Total=Sub1+Sub2+Sub3+Sub4+Sub5\n",
    "    Percentage=Total/500*100\n",
    "    print(\"Total :\",Total)\n",
    "    print(\"Percentage :\",Percentage)"
   ]
  },
  {
   "cell_type": "code",
   "execution_count": 19,
   "id": "998014e5-7304-44be-b023-63b5deacc19f",
   "metadata": {},
   "outputs": [
    {
     "name": "stdin",
     "output_type": "stream",
     "text": [
      "Subject1= 98\n",
      "Subject2= 87\n",
      "Subject3= 95\n",
      "Subject4= 95\n",
      "Subject5= 93\n"
     ]
    },
    {
     "name": "stdout",
     "output_type": "stream",
     "text": [
      "Total : 468\n",
      "Percentage : 93.60000000000001\n"
     ]
    }
   ],
   "source": [
    "FindPercent()"
   ]
  },
  {
   "cell_type": "code",
   "execution_count": 21,
   "id": "408a78d8-b206-4d32-b44b-e6ff03c9f67f",
   "metadata": {},
   "outputs": [],
   "source": [
    "def triangle():\n",
    "    H=int(input(\"Height:\"))\n",
    "    B=int(input(\"Breadth:\"))\n",
    "    Print=input(\"Area formula:\")\n",
    "    AoT=H*B/2\n",
    "    print(\"Area of Triangle:\",AoT)\n",
    "    H1=int(input(\"Height1:\"))\n",
    "    H2=int(input(\"Height2:\"))\n",
    "    B=int(input(\"Breadth:\"))\n",
    "    print(\"Perimeter formula: Height1+Height2+Breadth\")\n",
    "    poT=H1+H2+B\n",
    "    print(\"Perimeter of Triangle:\",poT)"
   ]
  },
  {
   "cell_type": "code",
   "execution_count": 23,
   "id": "76813bd5-db5e-4180-a82a-a724ed3eb220",
   "metadata": {},
   "outputs": [
    {
     "name": "stdin",
     "output_type": "stream",
     "text": [
      "Height: 32\n",
      "Breadth: 34\n",
      "Area formula: (Height*Breadth)/2\n"
     ]
    },
    {
     "name": "stdout",
     "output_type": "stream",
     "text": [
      "Area of Triangle: 544.0\n"
     ]
    },
    {
     "name": "stdin",
     "output_type": "stream",
     "text": [
      "Height1: 2\n",
      "Height2: 4\n",
      "Breadth: 4\n"
     ]
    },
    {
     "name": "stdout",
     "output_type": "stream",
     "text": [
      "Perimeter formula: Height1+Height2+Breadth\n",
      "Perimeter of Triangle: 10\n"
     ]
    }
   ],
   "source": [
    "triangle()"
   ]
  },
  {
   "cell_type": "code",
   "execution_count": null,
   "id": "2f54d752-4a56-4705-ae0f-660f862d5299",
   "metadata": {},
   "outputs": [],
   "source": []
  }
 ],
 "metadata": {
  "kernelspec": {
   "display_name": "Python [conda env:base] *",
   "language": "python",
   "name": "conda-base-py"
  },
  "language_info": {
   "codemirror_mode": {
    "name": "ipython",
    "version": 3
   },
   "file_extension": ".py",
   "mimetype": "text/x-python",
   "name": "python",
   "nbconvert_exporter": "python",
   "pygments_lexer": "ipython3",
   "version": "3.12.7"
  }
 },
 "nbformat": 4,
 "nbformat_minor": 5
}
